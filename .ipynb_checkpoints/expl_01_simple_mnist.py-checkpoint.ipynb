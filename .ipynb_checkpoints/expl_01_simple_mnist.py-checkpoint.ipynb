{
 "cells": [
  {
   "cell_type": "code",
   "execution_count": 2,
   "metadata": {
    "collapsed": true
   },
   "outputs": [],
   "source": [
    "# coding: utf-8\n",
    "\n",
    "import tensorflow as tf\n",
    "import numpy as np\n",
    "import matplotlib.pyplot as plt"
   ]
  },
  {
   "cell_type": "code",
   "execution_count": 3,
   "metadata": {
    "collapsed": false
   },
   "outputs": [
    {
     "name": "stdout",
     "output_type": "stream",
     "text": [
      "Extracting MNIST_data/train-images-idx3-ubyte.gz\n",
      "Extracting MNIST_data/train-labels-idx1-ubyte.gz\n",
      "Extracting MNIST_data/t10k-images-idx3-ubyte.gz\n",
      "Extracting MNIST_data/t10k-labels-idx1-ubyte.gz\n"
     ]
    }
   ],
   "source": [
    "from tensorflow.examples.tutorials.mnist import input_data\n",
    "mnist = input_data.read_data_sets(\"MNIST_data/\", one_hot=True)"
   ]
  },
  {
   "cell_type": "code",
   "execution_count": 4,
   "metadata": {
    "collapsed": true
   },
   "outputs": [],
   "source": [
    "def mnist_show_digit(digit=0, train=True):\n",
    "    if train:\n",
    "        x = mnist.train.images[digit]\n",
    "        print('[i] number of bytes representing image: ', len(x), 'bytes')\n",
    "        print('[i] number of images: ', len(mnist.train.images))\n",
    "        print('[i] showing digit: ', digit)\n",
    "        x = x.reshape([28, 28])\n",
    "        plt.imshow(x, cmap='hot', interpolation='nearest')\n",
    "        plt.show()\n",
    "        print('hot vector: ', mnist.train.labels[digit])\n",
    "    else:\n",
    "        x = mnist.test.images[digit]\n",
    "        print('[i] number of bytes representing image: ', len(x), 'bytes')\n",
    "        print('[i] number of images: ', len(mnist.train.images))\n",
    "        print('[i] showing digit: ', digit)\n",
    "        x = x.reshape([28, 28])\n",
    "        plt.imshow(x, cmap='hot', interpolation='nearest')\n",
    "        plt.show()\n",
    "        print('hot vector: ', mnist.test.labels[digit])"
   ]
  },
  {
   "cell_type": "code",
   "execution_count": 5,
   "metadata": {
    "collapsed": false
   },
   "outputs": [
    {
     "name": "stdout",
     "output_type": "stream",
     "text": [
      "[i] number of bytes representing image:  1 bytes\n",
      "[i] number of images:  55000\n",
      "[i] showing digit:  [43567]\n"
     ]
    },
    {
     "data": {
      "image/png": "[encoded data removed]",
      "text/plain": [
       "<matplotlib.figure.Figure at 0x7f8d25375fd0>"
      ]
     },
     "metadata": {},
     "output_type": "display_data"
    },
    {
     "name": "stdout",
     "output_type": "stream",
     "text": [
      "hot vector:  [[ 0.  0.  0.  0.  0.  1.  0.  0.  0.  0.]]\n"
     ]
    }
   ],
   "source": [
    "train_item = np.random.randint(len(mnist.train.images), size=1)\n",
    "mnist_show_digit(train_item, train = True)"
   ]
  },
  {
   "cell_type": "code",
   "execution_count": 6,
   "metadata": {
    "collapsed": true
   },
   "outputs": [],
   "source": [
    "def get_hotvmax_pos_fast(hot_vector):\n",
    "    ''' with the max fn the algorithm proved to be 2x shorter \n",
    "        and 7x faster than the traditional approach '''\n",
    "    predition_max = max(hot_vector)\n",
    "    for pos in range(len(hot_vector)):\n",
    "        if hot_vector[pos] == predition_max:\n",
    "            return pos"
   ]
  },
  {
   "cell_type": "code",
   "execution_count": 7,
   "metadata": {
    "collapsed": true
   },
   "outputs": [],
   "source": [
    "def neuron_layer(X, n_neurons, name, activation=None):\n",
    "    with tf.name_scope(name):\n",
    "        n_inputs = int(X.get_shape()[1])\n",
    "        print('[i] creating layer, ', name, ' with ', n_inputs, ' neurons...')\n",
    "        stddev = 2 / np.sqrt(n_inputs)\n",
    "        \n",
    "        W = tf.Variable(tf.truncated_normal((n_inputs, n_neurons), \\\n",
    "            stddev=stddev), name='kernel')\n",
    "        b = tf.Variable(tf.zeros([n_neurons]), name='bias')\n",
    "        Z = tf.add(tf.matmul(X, W), b)\n",
    "        \n",
    "        if activation is not None:\n",
    "            return activation(Z)\n",
    "        else:\n",
    "            return Z"
   ]
  },
  {
   "cell_type": "code",
   "execution_count": 8,
   "metadata": {
    "collapsed": true
   },
   "outputs": [],
   "source": [
    "n_inputs = 28 * 28 # mnist array\n",
    "n_hidden1 = 300    # first hidden layer\n",
    "n_hidden2 = 100    # second hidden layer\n",
    "n_outputs = 10     # hot vector output"
   ]
  },
  {
   "cell_type": "code",
   "execution_count": 9,
   "metadata": {
    "collapsed": false
   },
   "outputs": [
    {
     "name": "stdout",
     "output_type": "stream",
     "text": [
      "[i] creating layer,  hidden1  with  784  neurons...\n",
      "[i] creating layer,  hidden2  with  300  neurons...\n",
      "[i] creating layer,  output  with  100  neurons...\n",
      "[i] input Tensor is [ ? , 784 ]\n",
      "[i] where [instance_of_data, data_object]\n"
     ]
    }
   ],
   "source": [
    "with  tf.name_scope('input'):\n",
    "    input_x = tf.placeholder(tf.float32, shape=(None, n_inputs), name='x')\n",
    "\n",
    "with  tf.name_scope('target'):\n",
    "    target_y = tf.placeholder(tf.float32, [None, 10])\n",
    "    #target_y = tf.placeholder(tf.int8, shape=(None), name='y')\n",
    "\n",
    "with tf.name_scope('nn'):\n",
    "    hidden1 = neuron_layer(input_x, n_hidden1, 'hidden1', activation=tf.nn.relu)\n",
    "    hidden2 = neuron_layer(hidden1, n_hidden2, 'hidden2', activation=tf.nn.relu)\n",
    "    prediction = neuron_layer(hidden2, n_outputs, 'output')\n",
    "\n",
    "print('[i] input Tensor is [', input_x.get_shape()[0], ',', input_x.get_shape()[1], ']')\n",
    "print('[i] where [instance_of_data, data_object]')\n",
    "\n",
    "with tf.name_scope('cost'):\n",
    "    cost = tf.nn.l2_loss(prediction - target_y)\n",
    "    \n",
    "with tf.name_scope('train'):\n",
    "    optimizer = tf.train.GradientDescentOptimizer(0.01).minimize(cost)"
   ]
  },
  {
   "cell_type": "code",
   "execution_count": 10,
   "metadata": {
    "collapsed": false
   },
   "outputs": [],
   "source": [
    "def mnist_test():\n",
    "    correct_predictions = 0\n",
    "    for test_item in range(len(mnist.test.images)):\n",
    "        \n",
    "        predicted_label = sess.run(prediction, \n",
    "            feed_dict={input_x: mnist.test.images[test_item] [None, :]})\n",
    "\n",
    "        guess = get_hotvmax_pos_fast(predicted_label[0])\n",
    "        truth = get_hotvmax_pos_fast(mnist.test.labels[test_item])\n",
    "    \n",
    "        if guess == truth:\n",
    "            correct_predictions = correct_predictions + 1.0\n",
    "    \n",
    "    print('[i] total correct predictions is: ', correct_predictions)\n",
    "    print('[i] total data in test dataset is: ', len(mnist.test.images))\n",
    "    print('[i] success of the model is: ', \n",
    "        correct_predictions / len(mnist.test.images) * 100, '%')\n",
    "    print('[i] error of the model is: ',\n",
    "          100.0 - (correct_predictions / len(mnist.test.images) * 100, '%'))\n",
    "    print('[i] TEST finished...')"
   ]
  },
  {
   "cell_type": "code",
   "execution_count": 11,
   "metadata": {
    "collapsed": true
   },
   "outputs": [],
   "source": [
    "cost_function_result_aggregated = 1000.0\n",
    "training_epoch = -1"
   ]
  },
  {
   "cell_type": "code",
   "execution_count": null,
   "metadata": {
    "collapsed": false
   },
   "outputs": [
    {
     "name": "stdout",
     "output_type": "stream",
     "text": [
      "[i] cost_function_result_aggregated:  90.9538618773\n"
     ]
    }
   ],
   "source": [
    "with tf.Session() as sess:\n",
    "    sess.run(tf.global_variables_initializer())\n",
    "\n",
    "    while cost_function_result_aggregated > 0.1: #0.1:\n",
    "        training_epoch = training_epoch + 1\n",
    "        \n",
    "        cost_function_result_aggregated = 0\n",
    "        for batch_epoch in range(0, 100):\n",
    "            \n",
    "            train_item = np.random.randint(len(mnist.train.images), size=1)\n",
    "            _, predicted_label, cost_function_result = \\\n",
    "                sess.run([optimizer, prediction, cost], \\\n",
    "                feed_dict = {input_x:  mnist.train.images[train_item], \\\n",
    "                             target_y: mnist.train.labels[train_item]})\n",
    "\n",
    "            cost_function_result_aggregated = \\\n",
    "                cost_function_result_aggregated + cost_function_result \n",
    "        \n",
    "        if training_epoch % 500 == 0:\n",
    "            print('[i] cost_function_result_aggregated: ', \\\n",
    "                  cost_function_result_aggregated)\n",
    "            \n",
    "    print('[i] final cost_function_result_aggregated: ', \\\n",
    "          cost_function_result_aggregated)\n",
    "    print('[i] TRAINING finished...')\n",
    "    mnist_test()"
   ]
  },
  {
   "cell_type": "code",
   "execution_count": null,
   "metadata": {
    "collapsed": true
   },
   "outputs": [],
   "source": []
  }
 ],
 "metadata": {
  "kernelspec": {
   "display_name": "Python 3.6",
   "language": "python",
   "name": "python3.6"
  },
  "language_info": {
   "codemirror_mode": {
    "name": "ipython",
    "version": 3
   },
   "file_extension": ".py",
   "mimetype": "text/x-python",
   "name": "python",
   "nbconvert_exporter": "python",
   "pygments_lexer": "ipython3",
   "version": "3.6.0"
  }
 },
 "nbformat": 4,
 "nbformat_minor": 0
}
